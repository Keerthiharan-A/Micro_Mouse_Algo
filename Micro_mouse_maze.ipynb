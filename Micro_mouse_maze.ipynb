{
  "nbformat": 4,
  "nbformat_minor": 0,
  "metadata": {
    "colab": {
      "provenance": [],
      "authorship_tag": "ABX9TyN/PGJk19zlv6U8OQ/73rp7"
    },
    "kernelspec": {
      "name": "python3",
      "display_name": "Python 3"
    },
    "language_info": {
      "name": "python"
    }
  },
  "cells": [
    {
      "cell_type": "code",
      "execution_count": null,
      "metadata": {
        "id": "EATkkgUf2APr"
      },
      "outputs": [],
      "source": [
        "class Queue:\n",
        "  def __init__(self):\n",
        "    self.queue = []\n",
        "  def isempty(self):\n",
        "    return(self.queue == [])\n",
        "  def enqueue(self,v):\n",
        "    self.queue.append(v)\n",
        "  def dequeue(self):\n",
        "    v = None\n",
        "    if not self.isempty():\n",
        "      v = self.queue[0]\n",
        "      self.queue = self.queue[1:]\n",
        "      return v\n",
        "  def __str__(self):\n",
        "    return(str(self.queue))"
      ]
    },
    {
      "cell_type": "code",
      "source": [
        "class MazeGraph:\n",
        "    def __init__(self, size):\n",
        "        self.size = size\n",
        "        self.graph = {}\n",
        "        self.generate_graph()\n",
        "    def if_wall(self, direction):\n",
        "        return False\n",
        "    def generate_graph(self):\n",
        "        for row in range(self.size):\n",
        "            for col in range(self.size):\n",
        "                neighbors = []\n",
        "                dir = {'up': (row-1,col), 'down': (row+1,col), 'left': (row,col-1), 'right': (row,col+1)}\n",
        "                if row > 0 and not self.if_wall(dir['up']):\n",
        "                    neighbors.append(dir['up'])\n",
        "                if row < self.size - 1 and not self.if_wall(dir['down']):\n",
        "                    neighbors.append(dir['down'])\n",
        "                if col > 0 and not self.if_wall(dir['left']):\n",
        "                    neighbors.append(dir['left'])\n",
        "                if col < self.size - 1 and not self.if_wall(dir['right']):\n",
        "                    neighbors.append(dir['right'])\n",
        "                self.graph[(row, col)] = neighbors"
      ],
      "metadata": {
        "id": "t9cz6dD1ZDEw"
      },
      "execution_count": null,
      "outputs": []
    },
    {
      "cell_type": "code",
      "source": [
        "def dijkstra(WList, s):\n",
        "    infinity = 1 + len(WList.keys()) * max([d for u in WList.keys() for (v, d) in WList[u]])\n",
        "    (visited, distance, predecessor) = ({}, {}, {})\n",
        "    for v in WList.keys():\n",
        "        (visited[v], distance[v], predecessor[v]) = (False, infinity, None)\n",
        "    distance[s] = 0\n",
        "    for _ in WList.keys():\n",
        "        min_dist = min([distance[v] for v in WList.keys() if not visited[v]])\n",
        "        nextv_list = [v for v in WList.keys() if (not visited[v]) and distance[v] == min_dist]\n",
        "        nextv = min(nextv_list)\n",
        "        visited[nextv] = True\n",
        "        for v in WList[nextv]:\n",
        "            if not visited[v]:\n",
        "                if distance[nextv] + 1 < distance[v]:\n",
        "                    distance[v] = distance[nextv] + 1\n",
        "                    predecessor[v] = nextv\n",
        "    return distance, predecessor\n",
        "def shortest_path(predecessor, s, d):\n",
        "    path = [d]\n",
        "    while path[-1] != s:\n",
        "        if predecessor[path[-1]] is None:\n",
        "            return None\n",
        "        path.append(predecessor[path[-1]])\n",
        "    return path[::-1]"
      ],
      "metadata": {
        "id": "u6m9j91jc6tW"
      },
      "execution_count": null,
      "outputs": []
    },
    {
      "cell_type": "code",
      "source": [
        "import heapq\n",
        "def A_star(graph, start, goal):\n",
        "    priority_queue = [(0, start)]\n",
        "    came_from = {start: None}\n",
        "    cost_so_far = {start: 0}\n",
        "    while priority_queue:\n",
        "        current_cost, current_node = heapq.heappop(priority_queue)\n",
        "        if current_node == goal:\n",
        "            break\n",
        "        for next_node in graph[current_node]:\n",
        "            new_cost = cost_so_far[current_node] + 1\n",
        "            if next_node not in cost_so_far or new_cost < cost_so_far[next_node]:\n",
        "                cost_so_far[next_node] = new_cost\n",
        "                priority = new_cost + 1\n",
        "                heapq.heappush(priority_queue, (priority, next_node))\n",
        "                came_from[next_node] = current_node\n",
        "    path = reconstruct_path(came_from, start, goal)\n",
        "    return path\n",
        "def reconstruct_path(came_from, start, goal):\n",
        "    current = goal\n",
        "    path = []\n",
        "    while current != start:\n",
        "        path.append(current)\n",
        "        current = came_from[current]\n",
        "    path.append(start)\n",
        "    return path[::-1]"
      ],
      "metadata": {
        "id": "d_i9r6dUhEV9"
      },
      "execution_count": null,
      "outputs": []
    },
    {
      "cell_type": "code",
      "source": [
        "#def find_wall(x,y):  #this will return a bool value true if wall exists else false\n",
        "def floodfill(start, destination):\n",
        "    visited = [[False for _ in range(16)] for _ in range(16)]\n",
        "    parent = [[None for _ in range(16)] for _ in range(16)]\n",
        "    queue = Queue()\n",
        "    queue.enqueue(start)\n",
        "    while not queue.isempty():\n",
        "      current_row, current_col = queue.dequeue()\n",
        "      if (current_row, current_col) == destination:\n",
        "          path = []\n",
        "          while (current_row, current_col) != start:\n",
        "              path.append((current_row, current_col))\n",
        "              current_row, current_col = parent[current_row][current_col]\n",
        "          path.append(start)\n",
        "          path.reverse()\n",
        "          return path\n",
        "      if not visited[current_row][current_col]:\n",
        "        visited[current_row][current_col] = True\n",
        "        directions = [(-1, 0), (1, 0), (0, -1), (0, 1)]\n",
        "        for dr, dc in directions:\n",
        "          new_row, new_col = current_row + dr, current_col + dc\n",
        "          if 0 <= new_row < 16 and 0 <= new_col < 16 and not visited[new_row][new_col] and not find_wall(new_row,new_col):\n",
        "            queue.enqueue((new_row, new_col))\n",
        "            parent[new_row][new_col] = (current_row, current_col)"
      ],
      "metadata": {
        "id": "4YiWgxwrWZhj"
      },
      "execution_count": null,
      "outputs": []
    },
    {
      "cell_type": "code",
      "source": [
        "maze_graph = MazeGraph(16)\n",
        "start_node = (0, 0)\n",
        "goal_node = (12, 13)\n",
        "dist,path=dijkstra(maze_graph.graph,start_node)\n",
        "dj_route=shortest_path(path,start_node,goal_node)\n",
        "print(\"Shortest path from start to destination (Dijkstra's algo): \", dj_route)\n",
        "a_star_route=A_star(maze_graph.graph,start_node,goal_node)\n",
        "print(\"Shortest path from start to destination (A* algo): \", a_star_route)\n",
        "floodfill_route=floodfill(start_node,goal_node)\n",
        "print(\"Shortest path from start to destination (floodfill algo): \", floodfill_route)"
      ],
      "metadata": {
        "id": "aHfsMu7LkNVw"
      },
      "execution_count": null,
      "outputs": []
    }
  ]
}